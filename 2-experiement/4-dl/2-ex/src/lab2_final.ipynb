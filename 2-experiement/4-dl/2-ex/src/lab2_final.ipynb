{
 "cells": [
  {
   "attachments": {},
   "cell_type": "markdown",
   "metadata": {},
   "source": [
    "### 导入实验环境"
   ]
  },
  {
   "attachments": {},
   "cell_type": "markdown",
   "metadata": {},
   "source": [
    "https://bbs.huaweicloud.com/blogs/344369"
   ]
  },
  {
   "attachments": {},
   "cell_type": "markdown",
   "metadata": {},
   "source": [
    "#### 导入库"
   ]
  },
  {
   "cell_type": "code",
   "execution_count": 1,
   "metadata": {},
   "outputs": [],
   "source": [
    "import os\n",
    "import struct\n",
    "import sys\n",
    "from easydict import EasyDict as edict\n",
    "\n",
    "import matplotlib.pyplot as plt\n",
    "import numpy as np\n",
    "\n",
    "import mindspore\n",
    "import mindspore.dataset as ds\n",
    "import mindspore.nn as nn\n",
    "from mindspore import context\n",
    "from mindspore.nn.metrics import Accuracy, Loss\n",
    "from mindspore.train import Model\n",
    "from mindspore.train.callback import ModelCheckpoint, CheckpointConfig, LossMonitor, TimeMonitor\n",
    "from mindspore import Tensor\n",
    "\n",
    "context.set_context(mode=context.GRAPH_MODE, device_target='CPU') \n"
   ]
  },
  {
   "attachments": {},
   "cell_type": "markdown",
   "metadata": {},
   "source": [
    "#### 定义常量"
   ]
  },
  {
   "cell_type": "code",
   "execution_count": 2,
   "metadata": {},
   "outputs": [],
   "source": [
    "cfg = edict({\n",
    "    'train_size': 60000,  # 训练集大小\n",
    "    'test_size': 10000,  # 测试集大小\n",
    "    # 'train_size': 600,  # 训练集大小\n",
    "    # 'test_size': 100,  # 测试集大小\n",
    "    'channel': 1,  # 图片通道数\n",
    "    'image_height': 28,  # 图片高度\n",
    "    'image_width': 28,  # 图片宽度\n",
    "    'batch_size': 256,\n",
    "    'num_classes': 10,  # 分类类别\n",
    "    'lr': 0.001,  # 学习率\n",
    "    'epoch_size': 10,  # 训练次数\n",
    "    'data_dir_train': os.path.join('fashion-mnist', 'train'),\n",
    "    'data_dir_test': os.path.join('fashion-mnist', 'test'),\n",
    "}) \n"
   ]
  },
  {
   "attachments": {},
   "cell_type": "markdown",
   "metadata": {},
   "source": [
    "## 数据读取和预处理"
   ]
  },
  {
   "attachments": {},
   "cell_type": "markdown",
   "metadata": {},
   "source": [
    "### 定义函数用于读取数据"
   ]
  },
  {
   "cell_type": "code",
   "execution_count": 3,
   "metadata": {},
   "outputs": [],
   "source": [
    "def read_image(file_name):\n",
    "    '''\n",
    "    :param file_name: 文件路径\n",
    "    :return:  训练或者测试数据\n",
    "    如下是训练的图片的二进制格式\n",
    "    [offset] [type]          [value]          [description]\n",
    "    0000     32 bit integer  0x00000803(2051) magic number\n",
    "    0004     32 bit integer  60000            number of images\n",
    "    0008     32 bit integer  28               number of rows\n",
    "    0012     32 bit integer  28               number of columns\n",
    "    0016     unsigned byte   ??               pixel\n",
    "    0017     unsigned byte   ??               pixel\n",
    "    ........\n",
    "    xxxx     unsigned byte   ??               pixel\n",
    "    '''\n",
    "    file_handle = open(file_name, \"rb\")  # 以二进制打开文档\n",
    "    file_content = file_handle.read()  # 读取到缓冲区中\n",
    "    head = struct.unpack_from('>IIII', file_content, 0)  # 取前4个整数，返回一个元组\n",
    "    offset = struct.calcsize('>IIII')\n",
    "    imgNum = head[1]  # 图片数\n",
    "    width = head[2]  # 宽度\n",
    "    height = head[3]  # 高度\n",
    "    bits = imgNum * width * height  # data一共有60000*28*28个像素值\n",
    "    bitsString = '>' + str(bits) + 'B'  # fmt格式：'>47040000B'\n",
    "    imgs = struct.unpack_from(bitsString, file_content, offset)  # 取data数据，返回一个元组\n",
    "    imgs_array = np.array(imgs, np.float32).reshape((imgNum, width * height))  # 最后将读取的数据reshape成 【图片数，图片像素】二维数组\n",
    "    return imgs_array\n",
    "\n",
    "\n",
    "def read_label(file_name):\n",
    "    '''\n",
    "    :param file_name:\n",
    "    :return:\n",
    "    标签的格式如下：\n",
    "    [offset] [type]          [value]          [description]\n",
    "    0000     32 bit integer  0x00000801(2049) magic number (MSB first)\n",
    "    0004     32 bit integer  60000            number of items\n",
    "    0008     unsigned byte   ??               label\n",
    "    0009     unsigned byte   ??               label\n",
    "    ........\n",
    "    xxxx     unsigned byte   ??               label\n",
    "    The labels values are 0 to 9.\n",
    "    '''\n",
    "    file_handle = open(file_name, \"rb\")  # 以二进制打开文档\n",
    "    file_content = file_handle.read()  # 读取到缓冲区中\n",
    "    head = struct.unpack_from('>II', file_content, 0)  # 取前2个整数，返回一个元组\n",
    "    offset = struct.calcsize('>II')\n",
    "    labelNum = head[1]  # label数\n",
    "    bitsString = '>' + str(labelNum) + 'B'  # fmt格式：'>47040000B'\n",
    "    label = struct.unpack_from(bitsString, file_content, offset)  # 取data数据，返回一个元组\n",
    "    return np.array(label, np.int32)\n",
    "\n",
    "\n",
    "def get_data():\n",
    "    # 文件获取\n",
    "    train_image = os.path.join(cfg.data_dir_train, 'train-images-idx3-ubyte')\n",
    "    test_image = os.path.join(cfg.data_dir_test, \"t10k-images-idx3-ubyte\")\n",
    "    train_label = os.path.join(cfg.data_dir_train, \"train-labels-idx1-ubyte\")\n",
    "    test_label = os.path.join(cfg.data_dir_test, \"t10k-labels-idx1-ubyte\")\n",
    "    # 读取数据\n",
    "    train_x = read_image(train_image)\n",
    "    test_x = read_image(test_image)\n",
    "    train_y = read_label(train_label)\n",
    "    test_y = read_label(test_label)\n",
    "    return train_x, train_y, test_x, test_y\n"
   ]
  },
  {
   "attachments": {},
   "cell_type": "markdown",
   "metadata": {},
   "source": [
    "### 数据预处理"
   ]
  },
  {
   "cell_type": "code",
   "execution_count": 4,
   "metadata": {},
   "outputs": [
    {
     "name": "stdout",
     "output_type": "stream",
     "text": [
      "训练数据集样本数： 60000\n",
      "测试数据集样本数： 10000\n",
      "通道数/图像长/宽： (1, 28, 28)\n",
      "一张图像的标签样式： 9\n"
     ]
    },
    {
     "data": {
      "image/png": "[encoded data removed]",
      "text/plain": [
       "<Figure size 640x480 with 2 Axes>"
      ]
     },
     "metadata": {},
     "output_type": "display_data"
    }
   ],
   "source": [
    "train_x, train_y, test_x, test_y = get_data()\n",
    "train_x = train_x.reshape(-1, 1, cfg.image_height, cfg.image_width)\n",
    "test_x = test_x.reshape(-1, 1, cfg.image_height, cfg.image_width)\n",
    "train_x = train_x / 255.0\n",
    "test_x = test_x / 255.0\n",
    "\n",
    "print('训练数据集样本数：', train_x.shape[0])\n",
    "print('测试数据集样本数：', test_y.shape[0])\n",
    "print('通道数/图像长/宽：', train_x.shape[1:])\n",
    "print('一张图像的标签样式：', train_y[0])  # 一共10类，用0-9的数字表达类别。\n",
    "\n",
    "plt.figure()\n",
    "plt.imshow(train_x[0,0,...])\n",
    "plt.colorbar()\n",
    "plt.grid(False)\n",
    "plt.show()\n"
   ]
  },
  {
   "attachments": {},
   "cell_type": "markdown",
   "metadata": {},
   "source": [
    "### 数据集预处理"
   ]
  },
  {
   "cell_type": "code",
   "execution_count": 5,
   "metadata": {},
   "outputs": [],
   "source": [
    "# 转换数据类型为Dataset\n",
    "def create_dataset():\n",
    "    XY_train = list(zip(train_x, train_y))\n",
    "    ds_train = ds.GeneratorDataset(XY_train, ['x', 'y'])\n",
    "    ds_train = ds_train.shuffle(buffer_size=1000).batch(cfg.batch_size, drop_remainder=True)\n",
    "    XY_test = list(zip(test_x, test_y))\n",
    "    ds_test = ds.GeneratorDataset(XY_test, ['x', 'y'])\n",
    "    ds_test = ds_test.shuffle(buffer_size=1000).batch(cfg.batch_size, drop_remainder=True)\n",
    "    return ds_train, ds_test \n"
   ]
  },
  {
   "attachments": {},
   "cell_type": "markdown",
   "metadata": {},
   "source": [
    "## 回调函数声明"
   ]
  },
  {
   "cell_type": "code",
   "execution_count": 6,
   "metadata": {},
   "outputs": [],
   "source": [
    "# 定义一个自定义的回调函数，继承自Callback类\n",
    "from mindspore.train.callback import Callback\n",
    "class EvalCallBack(Callback):\n",
    "    def __init__(self, model, train_dataset, test_dataset, dataset_sink_mode = False, epochs_to_eval = 1):\n",
    "        self.model = model\n",
    "        self.train_dataset = train_dataset\n",
    "        self.test_dataset = test_dataset\n",
    "        # epochs_to_eval是一个int数字，代表着：每隔多少个epoch进行一次验证\n",
    "        self.epochs_to_eval = epochs_to_eval\n",
    "        self.per_eval = {\"epoch\": [], \"test_acc\": [], \"train_acc\": [], \"test_loss\": [], \"train_loss\": []}\n",
    "        self.dataset_sink_mode = dataset_sink_mode\n",
    "\n",
    "    def epoch_end(self, run_context):\n",
    "        # 获取到现在的epoch数\n",
    "        cb_param = run_context.original_args()\n",
    "        cur_epoch = cb_param.cur_epoch_num\n",
    "        # 如果达到进行验证的epoch数，则进行以下验证操作\n",
    "        if cur_epoch % self.epochs_to_eval == 0:\n",
    "            # 此处model设定的metrics是准确率Accuracy\n",
    "            train_acc = self.model.eval(self.train_dataset, dataset_sink_mode=self.dataset_sink_mode)[\"train_acc\"]\n",
    "            test_acc = self.model.eval(self.test_dataset, dataset_sink_mode=self.dataset_sink_mode)[\"test_acc\"]\n",
    "            train_loss = self.model.eval(self.train_dataset, dataset_sink_mode=self.dataset_sink_mode)[\"train_loss\"]\n",
    "            test_loss = self.model.eval(self.test_dataset, dataset_sink_mode=self.dataset_sink_mode)[\"test_loss\"]\n",
    "            self.per_eval[\"epoch\"].append(cur_epoch)\n",
    "            self.per_eval[\"test_acc\"].append(test_acc)\n",
    "            self.per_eval[\"train_acc\"].append(train_acc)\n",
    "            self.per_eval[\"train_loss\"].append(test_acc)\n",
    "            self.per_eval[\"test_loss\"].append(train_acc)\n",
    "            print(\"Epoch{}: train_acc: {}, test_acc: {}, train_loss: {}, test_loss{}\".format(cur_epoch, train_acc, test_acc, train_loss, test_loss))\n"
   ]
  },
  {
   "attachments": {},
   "cell_type": "markdown",
   "metadata": {},
   "source": [
    "## NetWork"
   ]
  },
  {
   "attachments": {},
   "cell_type": "markdown",
   "metadata": {},
   "source": [
    "### BaseLine NetWork"
   ]
  },
  {
   "cell_type": "code",
   "execution_count": 7,
   "metadata": {},
   "outputs": [],
   "source": [
    "# 定义卷积神经网络，BaseLine\n",
    "class ForwardFashion_baseline(nn.Cell):\n",
    "    def __init__(self, num_class=10):  # 一共分十类，图片通道数是1\n",
    "        super(ForwardFashion_baseline, self).__init__()\n",
    "        self.num_class = num_class\n",
    "        self.conv1 = nn.Conv2d(1, 32,kernel_size=3, stride=1, padding=0, has_bias=False, pad_mode=\"valid\")\n",
    "        self.conv2 = nn.Conv2d(32, 64,kernel_size=3, stride=1, padding=0, has_bias=False, pad_mode=\"valid\")\n",
    "        self.conv3 = nn.Conv2d(64, 128,kernel_size=3, stride=1, padding=0, has_bias=False, pad_mode=\"valid\")\n",
    "        self.maxpool2d = nn.MaxPool2d(kernel_size=2, stride=2)\n",
    "        self.relu = nn.ReLU()\n",
    "        self.flatten = nn.Flatten()\n",
    "        self.fc1 = nn.Dense(128 * 11 * 11, 128)\n",
    "        self.fc2 = nn.Dense(128, self.num_class)\n",
    "\n",
    "    def construct(self, x):\n",
    "        x = self.conv1(x)\n",
    "        x = self.relu(x)\n",
    "        x = self.conv2(x)\n",
    "        x = self.relu(x)\n",
    "        x = self.conv3(x)\n",
    "        x = self.relu(x)\n",
    "        x = self.maxpool2d(x)\n",
    "        x = self.flatten(x)\n",
    "        x = self.fc1(x)\n",
    "        x = self.relu(x)\n",
    "        x = self.fc2(x)\n",
    "        return x"
   ]
  },
  {
   "attachments": {},
   "cell_type": "markdown",
   "metadata": {},
   "source": [
    "### Network With BN"
   ]
  },
  {
   "cell_type": "code",
   "execution_count": 8,
   "metadata": {},
   "outputs": [],
   "source": [
    "# 定义卷积神经网络，批量归一化\n",
    "class ForwardFashionWithBatchNorm(nn.Cell):\n",
    "    def __init__(self, num_class=10):  # 一共分十类，图片通道数是1\n",
    "        super(ForwardFashionWithBatchNorm, self).__init__()\n",
    "        self.num_class = num_class\n",
    "        self.conv1 = nn.Conv2d(1, 32,kernel_size=3, stride=1, padding=0, has_bias=False, pad_mode=\"valid\")\n",
    "        self.conv2 = nn.Conv2d(32, 64,kernel_size=3, stride=1, padding=0, has_bias=False, pad_mode=\"valid\")\n",
    "        self.conv3 = nn.Conv2d(64, 128,kernel_size=3, stride=1, padding=0, has_bias=False, pad_mode=\"valid\")\n",
    "        self.maxpool2d = nn.MaxPool2d(kernel_size=2, stride=2)\n",
    "        self.relu = nn.ReLU()\n",
    "        self.flatten = nn.Flatten()\n",
    "        self.fc1 = nn.Dense(3200, 128)\n",
    "        self.bn = nn.BatchNorm1d(128)\n",
    "        self.fc2 = nn.Dense(128, self.num_class)\n",
    "\n",
    "    def construct(self, x):\n",
    "        x = self.conv1(x)\n",
    "        x = self.relu(x)\n",
    "        x = self.conv2(x)\n",
    "        x = self.relu(x)\n",
    "        x = self.maxpool2d(x)\n",
    "        # x = self.dropout(x)\n",
    "        x = self.conv3(x)\n",
    "        x = self.relu(x)\n",
    "        x = self.maxpool2d(x)\n",
    "        # x = self.dropout(x)\n",
    "        x = self.flatten(x)\n",
    "        x = self.fc1(x)\n",
    "        x = self.relu(x)\n",
    "        x = self.bn(x)\n",
    "        # x = self.dropout(x)\n",
    "        x = self.fc2(x)\n",
    "        return x"
   ]
  },
  {
   "attachments": {},
   "cell_type": "markdown",
   "metadata": {},
   "source": [
    "### NetWork with Dropout"
   ]
  },
  {
   "cell_type": "code",
   "execution_count": 19,
   "metadata": {},
   "outputs": [],
   "source": [
    "# 定义卷积神经网络，有Dropout正则化\n",
    "class ForwardFashionWithDropout(nn.Cell):\n",
    "    def __init__(self, num_class=10):  # 一共分十类，图片通道数是1\n",
    "        super(ForwardFashionWithDropout, self).__init__()\n",
    "        self.num_class = num_class\n",
    "        self.conv1 = nn.Conv2d(1, 32,kernel_size=3, stride=1, padding=0, has_bias=False, pad_mode=\"valid\")\n",
    "        self.conv2 = nn.Conv2d(32, 64,kernel_size=3, stride=1, padding=0, has_bias=False, pad_mode=\"valid\")\n",
    "        self.conv3 = nn.Conv2d(64, 128,kernel_size=3, stride=1, padding=0, has_bias=False, pad_mode=\"valid\")\n",
    "        self.maxpool2d = nn.MaxPool2d(kernel_size=2, stride=2)\n",
    "        self.relu = nn.ReLU()\n",
    "        self.dropout = nn.Dropout(0.8)\n",
    "        self.flatten = nn.Flatten()\n",
    "        self.fc1 = nn.Dense(3200, 128)\n",
    "        self.fc2 = nn.Dense(128, self.num_class)\n",
    "\n",
    "    def construct(self, x):\n",
    "        x = self.conv1(x)\n",
    "        x = self.relu(x)\n",
    "        x = self.conv2(x)\n",
    "        x = self.relu(x)\n",
    "        x = self.maxpool2d(x)\n",
    "        x = self.dropout(x)\n",
    "        x = self.conv3(x)\n",
    "        x = self.relu(x)\n",
    "        x = self.maxpool2d(x)\n",
    "        x = self.dropout(x)\n",
    "        x = self.flatten(x)\n",
    "        x = self.fc1(x)\n",
    "        x = self.relu(x)\n",
    "        x = self.dropout(x)\n",
    "        x = self.fc2(x)\n",
    "        return x"
   ]
  },
  {
   "attachments": {},
   "cell_type": "markdown",
   "metadata": {},
   "source": [
    "### Network With BatchNorm And Dropout"
   ]
  },
  {
   "cell_type": "code",
   "execution_count": 10,
   "metadata": {},
   "outputs": [],
   "source": [
    "# 定义卷积神经网络，批量归一化\n",
    "class ForwardFashionWithBatchNormAndDropout(nn.Cell):\n",
    "    def __init__(self, num_class=10):  # 一共分十类，图片通道数是1\n",
    "        super(ForwardFashionWithBatchNormAndDropout, self).__init__()\n",
    "        self.num_class = num_class\n",
    "        self.conv1 = nn.Conv2d(1, 32,kernel_size=3, stride=1, padding=0, has_bias=False, pad_mode=\"valid\")\n",
    "        self.conv2 = nn.Conv2d(32, 64,kernel_size=3, stride=1, padding=0, has_bias=False, pad_mode=\"valid\")\n",
    "        self.conv3 = nn.Conv2d(64, 128,kernel_size=3, stride=1, padding=0, has_bias=False, pad_mode=\"valid\")\n",
    "        self.maxpool2d = nn.MaxPool2d(kernel_size=2, stride=2)\n",
    "        self.relu = nn.ReLU()\n",
    "        self.flatten = nn.Flatten()\n",
    "        self.fc1 = nn.Dense(3200, 128)\n",
    "        self.bn = nn.BatchNorm1d(128)\n",
    "        self.fc2 = nn.Dense(128, self.num_class)\n",
    "        self.dropout = nn.Dropout()\n",
    "\n",
    "    def construct(self, x):\n",
    "        x = self.conv1(x)\n",
    "        x = self.relu(x)\n",
    "        x = self.conv2(x)\n",
    "        x = self.relu(x)\n",
    "        x = self.maxpool2d(x)\n",
    "        x = self.dropout(x)\n",
    "        x = self.conv3(x)\n",
    "        x = self.relu(x)\n",
    "        x = self.maxpool2d(x)\n",
    "        x = self.dropout(x)\n",
    "        x = self.flatten(x)\n",
    "        x = self.fc1(x)\n",
    "        x = self.relu(x)\n",
    "        x = self.bn(x)\n",
    "        x = self.dropout(x)\n",
    "        x = self.fc2(x)\n",
    "        return x"
   ]
  },
  {
   "attachments": {},
   "cell_type": "markdown",
   "metadata": {},
   "source": [
    "## 损失函数"
   ]
  },
  {
   "attachments": {},
   "cell_type": "markdown",
   "metadata": {},
   "source": [
    "### L1正则 "
   ]
  },
  {
   "cell_type": "code",
   "execution_count": 11,
   "metadata": {},
   "outputs": [],
   "source": [
    "from mindspore import ops\n",
    "# 定义具有L1正则化的交叉熵损失函数\n",
    "class L1CrossEntropyLoss(nn.Cell):\n",
    "    def __init__(self, params, l1_weight = 1e-4, reduction = \"mean\"):\n",
    "        super(L1CrossEntropyLoss, self).__init__(reduction)\n",
    "        self.params = params\n",
    "        self.ce = nn.CrossEntropyLoss()\n",
    "        self.l1 = nn.L1Regularizer(l1_weight)\n",
    "        self.reduce_sum = ops.ReduceSum()\n",
    "        self.concat = ops.Concat(axis=0)\n",
    "        self.reshape = ops.Reshape()\n",
    "\n",
    "    def construct(self, pred, label):\n",
    "        flatten_params = self.concat([self.reshape(p, (-1,)) for p in self.params])\n",
    "        ce_loss = self.ce(pred, label)\n",
    "        l1_loss = self.reduce_sum(self.l1(flatten_params))      # 计算L1范数惩罚项\n",
    "        total_loss = ce_loss + l1_loss\n",
    "        return total_loss"
   ]
  },
  {
   "attachments": {},
   "cell_type": "markdown",
   "metadata": {},
   "source": [
    "### L2正则"
   ]
  },
  {
   "cell_type": "code",
   "execution_count": 12,
   "metadata": {},
   "outputs": [],
   "source": [
    "from mindspore import ops\n",
    "# 定义具有L2正则化的交叉熵损失函数\n",
    "class L2CrossEntropyLoss(nn.Cell):\n",
    "    def __init__(self, params, l2_weight = 1e-4, reduction = \"mean\"):\n",
    "        super(L2CrossEntropyLoss, self).__init__(reduction)\n",
    "        self.params = params\n",
    "        self.ce = nn.CrossEntropyLoss()\n",
    "        self.l1 = nn.L1Regularizer(1)\n",
    "        self.l2_weight = l2_weight\n",
    "        self.reduce_sum = ops.ReduceSum()\n",
    "        self.concat = ops.Concat(axis=0)\n",
    "        self.reshape = ops.Reshape()\n",
    "\n",
    "    def construct(self, pred, label):\n",
    "        flatten_params = self.concat([self.reshape(p, (-1,)) for p in self.params])\n",
    "        ce_loss = self.ce(pred, label)\n",
    "        l1_loss = self.reduce_sum(self.l1(flatten_params)) * self.reduce_sum(self.l1(flatten_params)) * self.l2_weight      # 计算L1范数惩罚项\n",
    "        total_loss = ce_loss + l1_loss\n",
    "        return total_loss"
   ]
  },
  {
   "cell_type": "code",
   "execution_count": 13,
   "metadata": {},
   "outputs": [],
   "source": [
    "# # 定义卷积神经网络，BaseLine\n",
    "# class ForwardFashion(nn.Cell):\n",
    "#     def __init__(self, num_class=10):  # 一共分十类，图片通道数是1\n",
    "#         super(ForwardFashion, self).__init__()\n",
    "#         self.num_class = num_class\n",
    "#         self.conv1 = nn.Conv2d(1, 32,kernel_size=3, stride=1, padding=0, has_bias=False, pad_mode=\"valid\")\n",
    "#         self.conv2 = nn.Conv2d(32, 64,kernel_size=3, stride=1, padding=0, has_bias=False, pad_mode=\"valid\")\n",
    "#         self.conv3 = nn.Conv2d(64, 128,kernel_size=3, stride=1, padding=0, has_bias=False, pad_mode=\"valid\")\n",
    "#         self.maxpool2d = nn.MaxPool2d(kernel_size=2, stride=2)\n",
    "#         self.relu = nn.ReLU()\n",
    "#         self.flatten = nn.Flatten()\n",
    "#         self.fc1 = nn.Dense(128 * 11 * 11, 128)\n",
    "#         self.fc2 = nn.Dense(128, self.num_class)\n",
    "\n",
    "#     def construct(self, x):\n",
    "#         x = self.conv1(x)\n",
    "#         x = self.relu(x)\n",
    "#         x = self.conv2(x)\n",
    "#         x = self.relu(x)\n",
    "#         x = self.conv3(x)\n",
    "#         x = self.relu(x)\n",
    "#         x = self.maxpool2d(x)\n",
    "#         x = self.flatten(x)\n",
    "#         x = self.fc1(x)\n",
    "#         x = self.relu(x)\n",
    "#         x = self.fc2(x)\n",
    "#         return x\n",
    "    \n",
    "\n",
    "# def train_FTRL(Net):\n",
    "#     ds_train, ds_test = create_dataset()\n",
    "#     # 构建网络\n",
    "#     network = Net(cfg.num_classes)\n",
    "#     # 定义模型的损失函数，优化器    \n",
    "#     net_loss = nn.CrossEntropyLoss(reduction=\"mean\")\n",
    "#     net_opt = nn.Adam(network.trainable_params(), cfg.lr)\n",
    "#     conv_params = list(filter(lambda x: 'conv' in x.name, network.trainable_params()))\n",
    "#     no_conv_params = list(filter(lambda x: 'conv' not in x.name, network.trainable_params()))\n",
    "#     group_params = [{'params': conv_params, 'weight_decay': 0.01, 'grad_centralization':True},\n",
    "#                     {'params': no_conv_params},\n",
    "#                     {'order_params': network.trainable_params()}]\n",
    "#     optim = nn.FTRL(group_params, learning_rate=0.1, weight_decay=0.0)\n",
    "#     # 训练模型\n",
    "#     model = Model(network, loss_fn=net_loss, optimizer=optim, metrics={'acc': Accuracy()})\n",
    "#     loss_cb = LossMonitor()\n",
    "#     print(\"============== Starting Training ==============\")\n",
    "#     model.train(cfg.epoch_size, ds_train, callbacks=[loss_cb], dataset_sink_mode=True)\n",
    "#     # 验证\n",
    "#     metric = model.eval(ds_test)\n",
    "#     print(metric)\n",
    "#     return model\n",
    "\n",
    "# model_FTRL = train_FTRL(ForwardFashion)\n"
   ]
  },
  {
   "attachments": {},
   "cell_type": "markdown",
   "metadata": {},
   "source": [
    "## 辅助函数"
   ]
  },
  {
   "cell_type": "code",
   "execution_count": 14,
   "metadata": {},
   "outputs": [],
   "source": [
    "def train(network, loss_fn):\n",
    "    ds_train, ds_test = create_dataset()\n",
    "    # 定义模型的损失函数，优化器    \n",
    "    net_opt = nn.Adam(network.trainable_params(), cfg.lr)\n",
    "    # 训练模型\n",
    "    model = Model(network, loss_fn=loss_fn, optimizer=net_opt, metrics={'test_acc': Accuracy(), 'train_acc': Accuracy(), 'test_loss': Loss(),  'train_loss': Loss()})\n",
    "    loss_cb = EvalCallBack(model=model, train_dataset=ds_train, test_dataset=ds_test)\n",
    "    print(\"============== Starting Training ==============\")\n",
    "    model.train(cfg.epoch_size, ds_train, callbacks=[loss_cb], dataset_sink_mode=True)\n",
    "    print(loss_cb.per_eval)\n",
    "    metricDic = loss_cb.per_eval\n",
    "    return model, metricDic"
   ]
  },
  {
   "cell_type": "code",
   "execution_count": 15,
   "metadata": {},
   "outputs": [],
   "source": [
    "def saveMetric(path, metric):\n",
    "    with open(path, encoding=\"utf8\", mode=\"w\") as f:\n",
    "        f.write(str(metric))"
   ]
  },
  {
   "cell_type": "code",
   "execution_count": 16,
   "metadata": {},
   "outputs": [],
   "source": [
    "def saveModel(path, model):\n",
    "    mindspore.save_checkpoint(model, path)"
   ]
  },
  {
   "cell_type": "code",
   "execution_count": 17,
   "metadata": {},
   "outputs": [],
   "source": [
    "from matplotlib import pyplot as plt\n",
    "def drawAndSaveFig(path, metricList, title):\n",
    "    label = [\"train_acc\", \"test_acc\", \"train_loss\", \"test_loss\"]\n",
    "    plt.plot(metricList[label[0]], metricList[label[1]])\n",
    "    plt.legend(label[:2])\n",
    "    plt.title(title + \"_acc\")\n",
    "    plt.show()\n",
    "    plt.savefig(path+\"_acc\")\n",
    "    plt.plot(metricList[label[2]], metricList[label[3]])\n",
    "    plt.legend(label[2:])\n",
    "    plt.title(title + \"_loss\")\n",
    "    plt.show()\n",
    "    plt.savefig(path+\"_loss\")"
   ]
  },
  {
   "attachments": {},
   "cell_type": "markdown",
   "metadata": {},
   "source": [
    "## 测试"
   ]
  },
  {
   "attachments": {},
   "cell_type": "markdown",
   "metadata": {},
   "source": [
    "### BaseLine"
   ]
  },
  {
   "cell_type": "code",
   "execution_count": 21,
   "metadata": {},
   "outputs": [
    {
     "name": "stderr",
     "output_type": "stream",
     "text": [
      "[WARNING] ME(32400:23808,MainProcess):2023-05-18-21:50:49.730.00 [mindspore\\train\\model.py:1094] For EvalCallBack callback, {'epoch_end'} methods may not be supported in later version, Use methods prefixed with 'on_train' or 'on_eval' instead when using customized callbacks.\n"
     ]
    },
    {
     "name": "stdout",
     "output_type": "stream",
     "text": [
      "============== Starting Training ==============\n",
      "Epoch1: train_acc: 0.8442674946581197, test_acc: 0.8347355769230769, train_loss: 0.4406767497714768, test_loss0.4667505866441971\n",
      "Epoch2: train_acc: 0.8802250267094017, test_acc: 0.8673878205128205, train_loss: 0.3334465340161935, test_loss0.36994184591831303\n",
      "Epoch3: train_acc: 0.9018596420940171, test_acc: 0.8862179487179487, train_loss: 0.26995841369160223, test_loss0.31915530753441346\n",
      "Epoch4: train_acc: 0.904296875, test_acc: 0.8858173076923077, train_loss: 0.26382560378465897, test_loss0.3162946907373575\n",
      "Epoch5: train_acc: 0.9163494925213675, test_acc: 0.8939302884615384, train_loss: 0.22728929254743788, test_loss0.2983479110094217\n",
      "Epoch6: train_acc: 0.9305722489316239, test_acc: 0.9017427884615384, train_loss: 0.18974674289297855, test_loss0.28005740428582215\n",
      "Epoch7: train_acc: 0.9398704594017094, test_acc: 0.9067508012820513, train_loss: 0.16848084690351772, test_loss0.26954165177467543\n",
      "Epoch8: train_acc: 0.9446280715811965, test_acc: 0.9068509615384616, train_loss: 0.15305726443473092, test_loss0.27349554804655224\n",
      "Epoch9: train_acc: 0.9435596955128205, test_acc: 0.9020432692307693, train_loss: 0.14651896791835117, test_loss0.30002001501046693\n",
      "Epoch10: train_acc: 0.955879407051282, test_acc: 0.9067508012820513, train_loss: 0.11875486513997754, test_loss0.2982560212795551\n",
      "{'epoch': [1, 2, 3, 4, 5, 6, 7, 8, 9, 10], 'test_acc': [0.8347355769230769, 0.8673878205128205, 0.8862179487179487, 0.8858173076923077, 0.8939302884615384, 0.9017427884615384, 0.9067508012820513, 0.9068509615384616, 0.9020432692307693, 0.9067508012820513], 'train_acc': [0.8442674946581197, 0.8802250267094017, 0.9018596420940171, 0.904296875, 0.9163494925213675, 0.9305722489316239, 0.9398704594017094, 0.9446280715811965, 0.9435596955128205, 0.955879407051282], 'test_loss': [0.8442674946581197, 0.8802250267094017, 0.9018596420940171, 0.904296875, 0.9163494925213675, 0.9305722489316239, 0.9398704594017094, 0.9446280715811965, 0.9435596955128205, 0.955879407051282], 'train_loss': [0.8347355769230769, 0.8673878205128205, 0.8862179487179487, 0.8858173076923077, 0.8939302884615384, 0.9017427884615384, 0.9067508012820513, 0.9068509615384616, 0.9020432692307693, 0.9067508012820513]}\n"
     ]
    }
   ],
   "source": [
    "# Baseline\n",
    "network = ForwardFashion_baseline(cfg.num_classes)\n",
    "loss_fn = nn.CrossEntropyLoss()\n",
    "model, metricDic = train(network, loss_fn)\n",
    "saveMetric(\"./metric/baseline_metric.txt\", metricDic)\n",
    "saveModel(\"./model/baseline_model.ckpt\", network)"
   ]
  },
  {
   "cell_type": "code",
   "execution_count": null,
   "metadata": {},
   "outputs": [],
   "source": [
    "drawAndSaveFig(\"./img/metric_baseLine\", metricDic, \"BaseLine\")"
   ]
  },
  {
   "attachments": {},
   "cell_type": "markdown",
   "metadata": {},
   "source": [
    "### L1"
   ]
  },
  {
   "cell_type": "code",
   "execution_count": 36,
   "metadata": {},
   "outputs": [
    {
     "name": "stderr",
     "output_type": "stream",
     "text": [
      "[WARNING] ME(15008:31020,MainProcess):2023-05-18-11:47:11.686.819 [mindspore\\train\\model.py:1094] For EvalCallBack callback, {'epoch_end'} methods may not be supported in later version, Use methods prefixed with 'on_train' or 'on_eval' instead when using customized callbacks.\n"
     ]
    },
    {
     "name": "stdout",
     "output_type": "stream",
     "text": [
      "============== Starting Training ==============\n",
      "Epoch1: train_acc: 0.10011017628205128, test_acc: 0.0999599358974359, train_loss: 2.329673836373875, test_loss2.329674243927002\n",
      "Epoch2: train_acc: 0.09990985576923077, test_acc: 0.0999599358974359, train_loss: 2.329407216137291, test_loss2.3294081626794276\n",
      "Epoch3: train_acc: 0.09999332264957266, test_acc: 0.10006009615384616, train_loss: 2.3296092055801654, test_loss2.3296094979995337\n",
      "Epoch4: train_acc: 0.10001001602564102, test_acc: 0.10006009615384616, train_loss: 2.3294762780523706, test_loss2.3294756901569857\n",
      "Epoch5: train_acc: 0.10002670940170941, test_acc: 0.10016025641025642, train_loss: 2.330023269368033, test_loss2.330022096633911\n",
      "Epoch6: train_acc: 0.10001001602564102, test_acc: 0.09975961538461539, train_loss: 2.3295277937864647, test_loss2.329527885485918\n",
      "Epoch7: train_acc: 0.10007678952991453, test_acc: 0.0999599358974359, train_loss: 2.330149208378588, test_loss2.330150005144951\n",
      "Epoch8: train_acc: 0.09992654914529915, test_acc: 0.0999599358974359, train_loss: 2.329045349716121, test_loss2.3290428198300877\n",
      "Epoch9: train_acc: 0.10001001602564102, test_acc: 0.09975961538461539, train_loss: 2.3298839126896653, test_loss2.3298870355654984\n",
      "Epoch10: train_acc: 0.09997662927350427, test_acc: 0.09985977564102565, train_loss: 2.3295467918754644, test_loss2.3295477414742494\n",
      "{'epoch': [1, 2, 3, 4, 5, 6, 7, 8, 9, 10], 'test_acc': [0.0999599358974359, 0.0999599358974359, 0.10006009615384616, 0.10006009615384616, 0.10016025641025642, 0.09975961538461539, 0.0999599358974359, 0.0999599358974359, 0.09975961538461539, 0.09985977564102565], 'train_acc': [0.10011017628205128, 0.09990985576923077, 0.09999332264957266, 0.10001001602564102, 0.10002670940170941, 0.10001001602564102, 0.10007678952991453, 0.09992654914529915, 0.10001001602564102, 0.09997662927350427], 'test_loss': [0.10011017628205128, 0.09990985576923077, 0.09999332264957266, 0.10001001602564102, 0.10002670940170941, 0.10001001602564102, 0.10007678952991453, 0.09992654914529915, 0.10001001602564102, 0.09997662927350427], 'train_loss': [0.0999599358974359, 0.0999599358974359, 0.10006009615384616, 0.10006009615384616, 0.10016025641025642, 0.09975961538461539, 0.0999599358974359, 0.0999599358974359, 0.09975961538461539, 0.09985977564102565]}\n"
     ]
    }
   ],
   "source": [
    "# L1\n",
    "network_L1 = ForwardFashion_baseline(cfg.num_classes)\n",
    "loss_fn_L1 = L1CrossEntropyLoss(network_L1.trainable_params(), l1_weight=1e-8)\n",
    "model_L1, metricDic_L1 = train(network_L1, loss_fn_L1)\n",
    "saveMetric(\"./metric/baseline_metric_L1.txt\", metricDic_L1)\n",
    "saveModel(\"./model/baseline_model_L1.ckpt\", network_L1)"
   ]
  },
  {
   "cell_type": "code",
   "execution_count": null,
   "metadata": {},
   "outputs": [],
   "source": [
    "drawAndSaveFig(\"./img/metric_L1\", metricDic_L1, \"metric_L1\")"
   ]
  },
  {
   "attachments": {},
   "cell_type": "markdown",
   "metadata": {},
   "source": [
    "### L2\n"
   ]
  },
  {
   "cell_type": "code",
   "execution_count": 37,
   "metadata": {},
   "outputs": [
    {
     "name": "stderr",
     "output_type": "stream",
     "text": [
      "[WARNING] ME(15008:31020,MainProcess):2023-05-18-12:08:37.391.762 [mindspore\\train\\model.py:1094] For EvalCallBack callback, {'epoch_end'} methods may not be supported in later version, Use methods prefixed with 'on_train' or 'on_eval' instead when using customized callbacks.\n"
     ]
    },
    {
     "name": "stdout",
     "output_type": "stream",
     "text": [
      "============== Starting Training ==============\n",
      "Epoch1: train_acc: 0.10001001602564102, test_acc: 0.0999599358974359, train_loss: 2.302834337593144, test_loss2.3028344985766287\n",
      "Epoch2: train_acc: 0.10002670940170941, test_acc: 0.0999599358974359, train_loss: 2.3028210462668004, test_loss2.30282090871762\n",
      "Epoch3: train_acc: 0.10001001602564102, test_acc: 0.09985977564102565, train_loss: 2.3028012544680863, test_loss2.30280134616754\n",
      "Epoch4: train_acc: 0.10004340277777778, test_acc: 0.0999599358974359, train_loss: 2.302768865202227, test_loss2.3027687684083595\n",
      "Epoch5: train_acc: 0.10002670940170941, test_acc: 0.10016025641025642, train_loss: 2.30273668276958, test_loss2.3027367775256815\n",
      "Epoch6: train_acc: 0.10006009615384616, test_acc: 0.0999599358974359, train_loss: 2.3027141787048078, test_loss2.3027144701052933\n",
      "Epoch7: train_acc: 0.10006009615384616, test_acc: 0.09985977564102565, train_loss: 2.302696520446712, test_loss2.302696478672517\n",
      "Epoch8: train_acc: 0.09994324252136752, test_acc: 0.09985977564102565, train_loss: 2.3026742700837617, test_loss2.302674379104223\n",
      "Epoch9: train_acc: 0.09997662927350427, test_acc: 0.0999599358974359, train_loss: 2.3026695760906253, test_loss2.3026698369246263\n",
      "Epoch10: train_acc: 0.10004340277777778, test_acc: 0.09985977564102565, train_loss: 2.30265859559051, test_loss2.302659150881645\n",
      "{'epoch': [1, 2, 3, 4, 5, 6, 7, 8, 9, 10], 'test_acc': [0.0999599358974359, 0.0999599358974359, 0.09985977564102565, 0.0999599358974359, 0.10016025641025642, 0.0999599358974359, 0.09985977564102565, 0.09985977564102565, 0.0999599358974359, 0.09985977564102565], 'train_acc': [0.10001001602564102, 0.10002670940170941, 0.10001001602564102, 0.10004340277777778, 0.10002670940170941, 0.10006009615384616, 0.10006009615384616, 0.09994324252136752, 0.09997662927350427, 0.10004340277777778], 'test_loss': [0.10001001602564102, 0.10002670940170941, 0.10001001602564102, 0.10004340277777778, 0.10002670940170941, 0.10006009615384616, 0.10006009615384616, 0.09994324252136752, 0.09997662927350427, 0.10004340277777778], 'train_loss': [0.0999599358974359, 0.0999599358974359, 0.09985977564102565, 0.0999599358974359, 0.10016025641025642, 0.0999599358974359, 0.09985977564102565, 0.09985977564102565, 0.0999599358974359, 0.09985977564102565]}\n"
     ]
    }
   ],
   "source": [
    "# L2\n",
    "network_L2 = ForwardFashion_baseline(cfg.num_classes)\n",
    "loss_fn_L2 = L2CrossEntropyLoss(network_L2.trainable_params(), l2_weight=1e-8)\n",
    "model_L2, metricDic_L2 = train(network_L2, loss_fn_L2)\n",
    "saveMetric(\"./metric/baseline_metric_L2.txt\", metricDic_L2)\n",
    "saveModel(\"./model/baseline_model_L2.ckpt\", network_L2)"
   ]
  },
  {
   "cell_type": "code",
   "execution_count": null,
   "metadata": {},
   "outputs": [],
   "source": [
    "drawAndSaveFig(\"./img/metric_L2\", metricDic_L2, \"metric_L2\")\n"
   ]
  },
  {
   "attachments": {},
   "cell_type": "markdown",
   "metadata": {},
   "source": [
    "### BN"
   ]
  },
  {
   "cell_type": "code",
   "execution_count": 22,
   "metadata": {},
   "outputs": [
    {
     "name": "stderr",
     "output_type": "stream",
     "text": [
      "[WARNING] ME(32400:23808,MainProcess):2023-05-18-22:16:26.961.054 [mindspore\\train\\model.py:1094] For EvalCallBack callback, {'epoch_end'} methods may not be supported in later version, Use methods prefixed with 'on_train' or 'on_eval' instead when using customized callbacks.\n"
     ]
    },
    {
     "name": "stdout",
     "output_type": "stream",
     "text": [
      "============== Starting Training ==============\n",
      "Epoch1: train_acc: 0.8827457264957265, test_acc: 0.871895032051282, train_loss: 0.33672214980818266, test_loss0.36438882121673\n",
      "Epoch2: train_acc: 0.9123263888888888, test_acc: 0.8951322115384616, train_loss: 0.2456147018660847, test_loss0.2869034829812172\n",
      "Epoch3: train_acc: 0.9289696848290598, test_acc: 0.9040464743589743, train_loss: 0.19909430145580545, test_loss0.2666639555723239\n",
      "Epoch4: train_acc: 0.9357805822649573, test_acc: 0.9066506410256411, train_loss: 0.1738591754856782, test_loss0.26687966248927975\n",
      "Epoch5: train_acc: 0.9524906517094017, test_acc: 0.9177684294871795, train_loss: 0.13457948504350123, test_loss0.23046769927709532\n",
      "Epoch6: train_acc: 0.9587339743589743, test_acc: 0.9185697115384616, train_loss: 0.11547611351323943, test_loss0.2342818814974565\n",
      "Epoch7: train_acc: 0.9581330128205128, test_acc: 0.9131610576923077, train_loss: 0.11155248653048123, test_loss0.2760899475751779\n",
      "Epoch8: train_acc: 0.9693676549145299, test_acc: 0.9139623397435898, train_loss: 0.08625711284132086, test_loss0.26422973626699203\n",
      "Epoch9: train_acc: 0.9809528579059829, test_acc: 0.918770032051282, train_loss: 0.0585220850383242, test_loss0.2648817831889177\n",
      "Epoch10: train_acc: 0.9761117788461539, test_acc: 0.9119591346153846, train_loss: 0.06873421114670415, test_loss0.28761958808470994\n",
      "{'epoch': [1, 2, 3, 4, 5, 6, 7, 8, 9, 10], 'test_acc': [0.871895032051282, 0.8951322115384616, 0.9040464743589743, 0.9066506410256411, 0.9177684294871795, 0.9185697115384616, 0.9131610576923077, 0.9139623397435898, 0.918770032051282, 0.9119591346153846], 'train_acc': [0.8827457264957265, 0.9123263888888888, 0.9289696848290598, 0.9357805822649573, 0.9524906517094017, 0.9587339743589743, 0.9581330128205128, 0.9693676549145299, 0.9809528579059829, 0.9761117788461539], 'test_loss': [0.8827457264957265, 0.9123263888888888, 0.9289696848290598, 0.9357805822649573, 0.9524906517094017, 0.9587339743589743, 0.9581330128205128, 0.9693676549145299, 0.9809528579059829, 0.9761117788461539], 'train_loss': [0.871895032051282, 0.8951322115384616, 0.9040464743589743, 0.9066506410256411, 0.9177684294871795, 0.9185697115384616, 0.9131610576923077, 0.9139623397435898, 0.918770032051282, 0.9119591346153846]}\n"
     ]
    }
   ],
   "source": [
    "# BN\n",
    "network_BN = ForwardFashionWithBatchNorm(cfg.num_classes)\n",
    "loss_fn = nn.CrossEntropyLoss()\n",
    "model_BN, metricDic_BN = train(network_BN, loss_fn)\n",
    "saveMetric(\"./metric/baseline_metric_BN.txt\", metricDic_BN)\n",
    "saveModel(\"./model/baseline_model_BN.ckpt\", network_BN)"
   ]
  },
  {
   "cell_type": "code",
   "execution_count": null,
   "metadata": {},
   "outputs": [],
   "source": [
    "drawAndSaveFig(\"./img/metric_BN\", metricDic_BN, \"metric_BN\")\n"
   ]
  },
  {
   "attachments": {},
   "cell_type": "markdown",
   "metadata": {},
   "source": [
    "### Dropout"
   ]
  },
  {
   "cell_type": "code",
   "execution_count": 20,
   "metadata": {},
   "outputs": [
    {
     "name": "stderr",
     "output_type": "stream",
     "text": [
      "[WARNING] ME(32400:23808,MainProcess):2023-05-18-21:34:54.231.076 [mindspore\\nn\\layer\\basic.py:167] For Dropout, this parameter `keep_prob` will be deprecated, please use `p` instead.\n",
      "[WARNING] ME(32400:23808,MainProcess):2023-05-18-21:34:54.260.059 [mindspore\\train\\model.py:1094] For EvalCallBack callback, {'epoch_end'} methods may not be supported in later version, Use methods prefixed with 'on_train' or 'on_eval' instead when using customized callbacks.\n",
      "[WARNING] ME(32400:23808,MainProcess):2023-05-18-21:34:54.284.055 [mindspore\\nn\\layer\\basic.py:193] For Dropout, this parameter `keep_prob` will be deprecated, please use `p` instead.\n",
      "[WARNING] ME(32400:23808,MainProcess):2023-05-18-21:34:54.287.091 [mindspore\\nn\\layer\\basic.py:193] For Dropout, this parameter `keep_prob` will be deprecated, please use `p` instead.\n",
      "[WARNING] ME(32400:23808,MainProcess):2023-05-18-21:34:54.295.082 [mindspore\\nn\\layer\\basic.py:193] For Dropout, this parameter `keep_prob` will be deprecated, please use `p` instead.\n",
      "[WARNING] ME(32400:23808,MainProcess):2023-05-18-21:34:54.298.061 [mindspore\\nn\\layer\\basic.py:193] For Dropout, this parameter `keep_prob` will be deprecated, please use `p` instead.\n",
      "[WARNING] ME(32400:23808,MainProcess):2023-05-18-21:34:54.324.620 [mindspore\\nn\\layer\\basic.py:193] For Dropout, this parameter `keep_prob` will be deprecated, please use `p` instead.\n",
      "[WARNING] ME(32400:23808,MainProcess):2023-05-18-21:34:54.361.125 [mindspore\\nn\\layer\\basic.py:193] For Dropout, this parameter `keep_prob` will be deprecated, please use `p` instead.\n",
      "[WARNING] ME(32400:23808,MainProcess):2023-05-18-21:34:54.374.125 [mindspore\\nn\\layer\\basic.py:193] For Dropout, this parameter `keep_prob` will be deprecated, please use `p` instead.\n"
     ]
    },
    {
     "name": "stdout",
     "output_type": "stream",
     "text": [
      "============== Starting Training ==============\n"
     ]
    },
    {
     "name": "stderr",
     "output_type": "stream",
     "text": [
      "[WARNING] ME(32400:23808,MainProcess):2023-05-18-21:35:53.777.552 [mindspore\\nn\\layer\\basic.py:193] For Dropout, this parameter `keep_prob` will be deprecated, please use `p` instead.\n",
      "[WARNING] ME(32400:23808,MainProcess):2023-05-18-21:35:53.787.552 [mindspore\\nn\\layer\\basic.py:193] For Dropout, this parameter `keep_prob` will be deprecated, please use `p` instead.\n",
      "[WARNING] ME(32400:23808,MainProcess):2023-05-18-21:35:53.797.551 [mindspore\\nn\\layer\\basic.py:193] For Dropout, this parameter `keep_prob` will be deprecated, please use `p` instead.\n",
      "[WARNING] ME(32400:23808,MainProcess):2023-05-18-21:35:53.810.551 [mindspore\\nn\\layer\\basic.py:193] For Dropout, this parameter `keep_prob` will be deprecated, please use `p` instead.\n",
      "[WARNING] ME(32400:23808,MainProcess):2023-05-18-21:35:53.825.552 [mindspore\\nn\\layer\\basic.py:193] For Dropout, this parameter `keep_prob` will be deprecated, please use `p` instead.\n"
     ]
    },
    {
     "name": "stdout",
     "output_type": "stream",
     "text": [
      "Epoch1: train_acc: 0.7931189903846154, test_acc: 0.7848557692307693, train_loss: 0.54593772893278, test_loss0.5659783062262412\n",
      "Epoch2: train_acc: 0.8498263888888888, test_acc: 0.8421474358974359, train_loss: 0.4171484413309994, test_loss0.43928849620696825\n",
      "Epoch3: train_acc: 0.8600594284188035, test_acc: 0.8521634615384616, train_loss: 0.37497706240058964, test_loss0.40661043845690215\n",
      "Epoch4: train_acc: 0.8767194177350427, test_acc: 0.8665865384615384, train_loss: 0.33633567774907136, test_loss0.366913521136993\n",
      "Epoch5: train_acc: 0.8857672275641025, test_acc: 0.8745993589743589, train_loss: 0.31538262568477893, test_loss0.35130395682958454\n",
      "Epoch6: train_acc: 0.8958500267094017, test_acc: 0.8838141025641025, train_loss: 0.28740435106377316, test_loss0.32320695160291135\n",
      "Epoch7: train_acc: 0.898170405982906, test_acc: 0.8866185897435898, train_loss: 0.27517512771818375, test_loss0.31621793676645327\n",
      "Epoch8: train_acc: 0.9057992788461539, test_acc: 0.8938301282051282, train_loss: 0.2568966701117336, test_loss0.30033488533435726\n",
      "Epoch9: train_acc: 0.9062666933760684, test_acc: 0.8908253205128205, train_loss: 0.25166807470158636, test_loss0.2998172709575066\n",
      "Epoch10: train_acc: 0.9175180288461539, test_acc: 0.90234375, train_loss: 0.22707083359615415, test_loss0.274438827083661\n",
      "{'epoch': [1, 2, 3, 4, 5, 6, 7, 8, 9, 10], 'test_acc': [0.7848557692307693, 0.8421474358974359, 0.8521634615384616, 0.8665865384615384, 0.8745993589743589, 0.8838141025641025, 0.8866185897435898, 0.8938301282051282, 0.8908253205128205, 0.90234375], 'train_acc': [0.7931189903846154, 0.8498263888888888, 0.8600594284188035, 0.8767194177350427, 0.8857672275641025, 0.8958500267094017, 0.898170405982906, 0.9057992788461539, 0.9062666933760684, 0.9175180288461539], 'test_loss': [0.7931189903846154, 0.8498263888888888, 0.8600594284188035, 0.8767194177350427, 0.8857672275641025, 0.8958500267094017, 0.898170405982906, 0.9057992788461539, 0.9062666933760684, 0.9175180288461539], 'train_loss': [0.7848557692307693, 0.8421474358974359, 0.8521634615384616, 0.8665865384615384, 0.8745993589743589, 0.8838141025641025, 0.8866185897435898, 0.8938301282051282, 0.8908253205128205, 0.90234375]}\n"
     ]
    }
   ],
   "source": [
    "# Dropout\n",
    "network_Drop = ForwardFashionWithDropout(cfg.num_classes)\n",
    "loss_fn = nn.CrossEntropyLoss()\n",
    "model_Drop, metricDic_Drop = train(network_Drop, loss_fn)\n",
    "saveMetric(\"./metric/baseline_metric_Drop.txt\", metricDic_Drop)\n",
    "saveModel(\"./model/baseline_model_Drop.ckpt\", network_Drop)"
   ]
  },
  {
   "cell_type": "code",
   "execution_count": null,
   "metadata": {},
   "outputs": [],
   "source": [
    "drawAndSaveFig(\"./img/metric_Dropout\", metricDic_Drop, \"metric_Dropout\")"
   ]
  },
  {
   "attachments": {},
   "cell_type": "markdown",
   "metadata": {},
   "source": [
    "### BN + Dropout"
   ]
  },
  {
   "cell_type": "code",
   "execution_count": 41,
   "metadata": {},
   "outputs": [
    {
     "name": "stderr",
     "output_type": "stream",
     "text": [
      "[WARNING] ME(15008:31020,MainProcess):2023-05-18-12:52:04.480.431 [mindspore\\nn\\layer\\basic.py:167] For Dropout, this parameter `keep_prob` will be deprecated, please use `p` instead.\n",
      "[WARNING] ME(15008:31020,MainProcess):2023-05-18-12:52:04.506.448 [mindspore\\train\\model.py:1094] For EvalCallBack callback, {'epoch_end'} methods may not be supported in later version, Use methods prefixed with 'on_train' or 'on_eval' instead when using customized callbacks.\n",
      "[WARNING] ME(15008:31020,MainProcess):2023-05-18-12:52:04.527.122 [mindspore\\nn\\layer\\basic.py:193] For Dropout, this parameter `keep_prob` will be deprecated, please use `p` instead.\n",
      "[WARNING] ME(15008:31020,MainProcess):2023-05-18-12:52:04.531.122 [mindspore\\nn\\layer\\basic.py:193] For Dropout, this parameter `keep_prob` will be deprecated, please use `p` instead.\n",
      "[WARNING] ME(15008:31020,MainProcess):2023-05-18-12:52:04.544.141 [mindspore\\nn\\layer\\basic.py:193] For Dropout, this parameter `keep_prob` will be deprecated, please use `p` instead.\n",
      "[WARNING] ME(15008:31020,MainProcess):2023-05-18-12:52:04.546.121 [mindspore\\nn\\layer\\basic.py:193] For Dropout, this parameter `keep_prob` will be deprecated, please use `p` instead.\n",
      "[WARNING] ME(15008:31020,MainProcess):2023-05-18-12:52:04.571.660 [mindspore\\nn\\layer\\basic.py:193] For Dropout, this parameter `keep_prob` will be deprecated, please use `p` instead.\n",
      "[WARNING] ME(15008:31020,MainProcess):2023-05-18-12:52:04.605.286 [mindspore\\nn\\layer\\basic.py:193] For Dropout, this parameter `keep_prob` will be deprecated, please use `p` instead.\n",
      "[WARNING] ME(15008:31020,MainProcess):2023-05-18-12:52:04.618.285 [mindspore\\nn\\layer\\basic.py:193] For Dropout, this parameter `keep_prob` will be deprecated, please use `p` instead.\n"
     ]
    },
    {
     "name": "stdout",
     "output_type": "stream",
     "text": [
      "============== Starting Training ==============\n"
     ]
    },
    {
     "name": "stderr",
     "output_type": "stream",
     "text": [
      "[WARNING] ME(15008:31020,MainProcess):2023-05-18-12:53:05.397.585 [mindspore\\nn\\layer\\basic.py:193] For Dropout, this parameter `keep_prob` will be deprecated, please use `p` instead.\n",
      "[WARNING] ME(15008:31020,MainProcess):2023-05-18-12:53:05.406.588 [mindspore\\nn\\layer\\basic.py:193] For Dropout, this parameter `keep_prob` will be deprecated, please use `p` instead.\n",
      "[WARNING] ME(15008:31020,MainProcess):2023-05-18-12:53:05.416.537 [mindspore\\nn\\layer\\basic.py:193] For Dropout, this parameter `keep_prob` will be deprecated, please use `p` instead.\n",
      "[WARNING] ME(15008:31020,MainProcess):2023-05-18-12:53:05.435.389 [mindspore\\nn\\layer\\basic.py:193] For Dropout, this parameter `keep_prob` will be deprecated, please use `p` instead.\n",
      "[WARNING] ME(15008:31020,MainProcess):2023-05-18-12:53:05.451.392 [mindspore\\nn\\layer\\basic.py:193] For Dropout, this parameter `keep_prob` will be deprecated, please use `p` instead.\n"
     ]
    },
    {
     "name": "stdout",
     "output_type": "stream",
     "text": [
      "Epoch1: train_acc: 0.8502604166666666, test_acc: 0.8399439102564102, train_loss: 0.42102854832624775, test_loss0.44137566364728487\n",
      "Epoch2: train_acc: 0.8923944978632479, test_acc: 0.8790064102564102, train_loss: 0.30164321047118586, test_loss0.33175548376181185\n",
      "Epoch3: train_acc: 0.9035957532051282, test_acc: 0.8917267628205128, train_loss: 0.2649496451147601, test_loss0.2983079560292073\n",
      "Epoch4: train_acc: 0.9114583333333334, test_acc: 0.8991386217948718, train_loss: 0.2426122664513751, test_loss0.27862640489370394\n",
      "Epoch5: train_acc: 0.9162326388888888, test_acc: 0.9037459935897436, train_loss: 0.22818779028379, test_loss0.2667615165313085\n",
      "Epoch6: train_acc: 0.9235944177350427, test_acc: 0.9098557692307693, train_loss: 0.2121520025225786, test_loss0.2518660135758229\n",
      "Epoch7: train_acc: 0.9239950587606838, test_acc: 0.9098557692307693, train_loss: 0.20592143128697687, test_loss0.24961869495037275\n",
      "Epoch8: train_acc: 0.9273838141025641, test_acc: 0.9138621794871795, train_loss: 0.19941327068158704, test_loss0.2390047292678784\n",
      "Epoch9: train_acc: 0.9290531517094017, test_acc: 0.9114583333333334, train_loss: 0.19436225906396523, test_loss0.2397110408697373\n",
      "Epoch10: train_acc: 0.927200186965812, test_acc: 0.91015625, train_loss: 0.19919845843926454, test_loss0.24391536567455682\n",
      "{'epoch': [1, 2, 3, 4, 5, 6, 7, 8, 9, 10], 'test_acc': [0.8399439102564102, 0.8790064102564102, 0.8917267628205128, 0.8991386217948718, 0.9037459935897436, 0.9098557692307693, 0.9098557692307693, 0.9138621794871795, 0.9114583333333334, 0.91015625], 'train_acc': [0.8502604166666666, 0.8923944978632479, 0.9035957532051282, 0.9114583333333334, 0.9162326388888888, 0.9235944177350427, 0.9239950587606838, 0.9273838141025641, 0.9290531517094017, 0.927200186965812], 'test_loss': [0.8502604166666666, 0.8923944978632479, 0.9035957532051282, 0.9114583333333334, 0.9162326388888888, 0.9235944177350427, 0.9239950587606838, 0.9273838141025641, 0.9290531517094017, 0.927200186965812], 'train_loss': [0.8399439102564102, 0.8790064102564102, 0.8917267628205128, 0.8991386217948718, 0.9037459935897436, 0.9098557692307693, 0.9098557692307693, 0.9138621794871795, 0.9114583333333334, 0.91015625]}\n"
     ]
    }
   ],
   "source": [
    "# Dropout + BN\n",
    "network_Drop_BN = ForwardFashionWithBatchNormAndDropout(cfg.num_classes)\n",
    "loss_fn = nn.CrossEntropyLoss()\n",
    "model_Drop_BN, metricDic_Drop_BN = train(network_Drop_BN, loss_fn)\n",
    "saveMetric(\"./metric/baseline_metric_Drop_BN.txt\", metricDic_Drop_BN)\n",
    "saveModel(\"./model/baseline_model_Drop_BN.ckpt\", network_Drop_BN)"
   ]
  },
  {
   "cell_type": "code",
   "execution_count": null,
   "metadata": {},
   "outputs": [],
   "source": [
    "drawAndSaveFig(\"./img/metric_Dropout_BN\", metricDic_Drop_BN, \"metric_Dropout_BN\")"
   ]
  },
  {
   "attachments": {},
   "cell_type": "markdown",
   "metadata": {},
   "source": [
    "### Early Stop"
   ]
  },
  {
   "cell_type": "code",
   "execution_count": 35,
   "metadata": {},
   "outputs": [
    {
     "name": "stderr",
     "output_type": "stream",
     "text": [
      "[WARNING] ME(32400:23808,MainProcess):2023-05-19-00:26:24.625.611 [mindspore\\train\\model.py:1094] For EvalCallBackWithEarlyStop callback, {'epoch_end'} methods may not be supported in later version, Use methods prefixed with 'on_train' or 'on_eval' instead when using customized callbacks.\n"
     ]
    },
    {
     "name": "stdout",
     "output_type": "stream",
     "text": [
      "============== Starting Training ==============\n"
     ]
    },
    {
     "ename": "KeyboardInterrupt",
     "evalue": "",
     "output_type": "error",
     "traceback": [
      "\u001b[1;31m---------------------------------------------------------------------------\u001b[0m",
      "\u001b[1;31mKeyboardInterrupt\u001b[0m                         Traceback (most recent call last)",
      "Cell \u001b[1;32mIn[35], line 64\u001b[0m\n\u001b[0;32m     62\u001b[0m network_earlyStop \u001b[39m=\u001b[39m ForwardFashion_baseline(cfg\u001b[39m.\u001b[39mnum_classes)\n\u001b[0;32m     63\u001b[0m loss_fn \u001b[39m=\u001b[39m nn\u001b[39m.\u001b[39mCrossEntropyLoss()\n\u001b[1;32m---> 64\u001b[0m model_earlyStop, metricDic_earlyStop \u001b[39m=\u001b[39m train_earlyStop(network_earlyStop, loss_fn)\n\u001b[0;32m     65\u001b[0m saveMetric(\u001b[39m\"\u001b[39m\u001b[39m./metric/baseline_metric_EarlyStop.txt\u001b[39m\u001b[39m\"\u001b[39m, metricDic_earlyStop)\n\u001b[0;32m     66\u001b[0m saveModel(\u001b[39m\"\u001b[39m\u001b[39m./model/baseline_model_EarlyStop.ckpt\u001b[39m\u001b[39m\"\u001b[39m, network_earlyStop)\n",
      "Cell \u001b[1;32mIn[35], line 56\u001b[0m, in \u001b[0;36mtrain_earlyStop\u001b[1;34m(network, loss_fn)\u001b[0m\n\u001b[0;32m     54\u001b[0m loss_cb \u001b[39m=\u001b[39m EvalCallBackWithEarlyStop(model\u001b[39m=\u001b[39mmodel, train_dataset\u001b[39m=\u001b[39mds_train, test_dataset\u001b[39m=\u001b[39mds_test, acc_delta_limit \u001b[39m=\u001b[39m \u001b[39m0.005\u001b[39m, patience \u001b[39m=\u001b[39m \u001b[39m2\u001b[39m)\n\u001b[0;32m     55\u001b[0m \u001b[39mprint\u001b[39m(\u001b[39m\"\u001b[39m\u001b[39m============== Starting Training ==============\u001b[39m\u001b[39m\"\u001b[39m)\n\u001b[1;32m---> 56\u001b[0m model\u001b[39m.\u001b[39;49mtrain(cfg\u001b[39m.\u001b[39;49mepoch_size, ds_train, callbacks\u001b[39m=\u001b[39;49m[loss_cb], dataset_sink_mode\u001b[39m=\u001b[39;49m\u001b[39mTrue\u001b[39;49;00m)\n\u001b[0;32m     57\u001b[0m \u001b[39mprint\u001b[39m(loss_cb\u001b[39m.\u001b[39mper_eval)\n\u001b[0;32m     58\u001b[0m metricDic \u001b[39m=\u001b[39m loss_cb\u001b[39m.\u001b[39mper_eval\n",
      "File \u001b[1;32mc:\\Users\\15781\\anaconda3\\envs\\mindspore_py38\\lib\\site-packages\\mindspore\\train\\model.py:1056\u001b[0m, in \u001b[0;36mModel.train\u001b[1;34m(self, epoch, train_dataset, callbacks, dataset_sink_mode, sink_size, initial_epoch)\u001b[0m\n\u001b[0;32m   1053\u001b[0m \u001b[39mif\u001b[39;00m callbacks:\n\u001b[0;32m   1054\u001b[0m     \u001b[39mself\u001b[39m\u001b[39m.\u001b[39m_check_methods_for_custom_callbacks(callbacks, \u001b[39m\"\u001b[39m\u001b[39mtrain\u001b[39m\u001b[39m\"\u001b[39m)\n\u001b[1;32m-> 1056\u001b[0m \u001b[39mself\u001b[39;49m\u001b[39m.\u001b[39;49m_train(epoch,\n\u001b[0;32m   1057\u001b[0m             train_dataset,\n\u001b[0;32m   1058\u001b[0m             callbacks\u001b[39m=\u001b[39;49mcallbacks,\n\u001b[0;32m   1059\u001b[0m             dataset_sink_mode\u001b[39m=\u001b[39;49mdataset_sink_mode,\n\u001b[0;32m   1060\u001b[0m             sink_size\u001b[39m=\u001b[39;49msink_size,\n\u001b[0;32m   1061\u001b[0m             initial_epoch\u001b[39m=\u001b[39;49minitial_epoch)\n\u001b[0;32m   1063\u001b[0m \u001b[39m# When it's distributed training and using MindRT,\u001b[39;00m\n\u001b[0;32m   1064\u001b[0m \u001b[39m# the node id should be reset to start from 0.\u001b[39;00m\n\u001b[0;32m   1065\u001b[0m \u001b[39m# This is to avoid the timeout when finding the actor route tables in 'train' and 'eval' case(or 'fit').\u001b[39;00m\n\u001b[0;32m   1066\u001b[0m \u001b[39mif\u001b[39;00m _enable_distributed_mindrt():\n",
      "File \u001b[1;32mc:\\Users\\15781\\anaconda3\\envs\\mindspore_py38\\lib\\site-packages\\mindspore\\train\\model.py:100\u001b[0m, in \u001b[0;36m_save_final_ckpt.<locals>.wrapper\u001b[1;34m(self, *args, **kwargs)\u001b[0m\n\u001b[0;32m     98\u001b[0m         \u001b[39mraise\u001b[39;00m e\n\u001b[0;32m     99\u001b[0m \u001b[39melse\u001b[39;00m:\n\u001b[1;32m--> 100\u001b[0m     func(\u001b[39mself\u001b[39;49m, \u001b[39m*\u001b[39;49margs, \u001b[39m*\u001b[39;49m\u001b[39m*\u001b[39;49mkwargs)\n",
      "File \u001b[1;32mc:\\Users\\15781\\anaconda3\\envs\\mindspore_py38\\lib\\site-packages\\mindspore\\train\\model.py:614\u001b[0m, in \u001b[0;36mModel._train\u001b[1;34m(self, epoch, train_dataset, callbacks, dataset_sink_mode, sink_size, initial_epoch, valid_dataset, valid_frequency, valid_dataset_sink_mode)\u001b[0m\n\u001b[0;32m    611\u001b[0m \u001b[39melif\u001b[39;00m context\u001b[39m.\u001b[39mget_context(\u001b[39m\"\u001b[39m\u001b[39mdevice_target\u001b[39m\u001b[39m\"\u001b[39m) \u001b[39m==\u001b[39m \u001b[39m\"\u001b[39m\u001b[39mCPU\u001b[39m\u001b[39m\"\u001b[39m:\n\u001b[0;32m    612\u001b[0m     logger\u001b[39m.\u001b[39minfo(\u001b[39m\"\u001b[39m\u001b[39mThe CPU cannot support dataset sink mode currently.\u001b[39m\u001b[39m\"\u001b[39m\n\u001b[0;32m    613\u001b[0m                 \u001b[39m\"\u001b[39m\u001b[39mSo the training process will be performed with dataset not sink.\u001b[39m\u001b[39m\"\u001b[39m)\n\u001b[1;32m--> 614\u001b[0m     \u001b[39mself\u001b[39;49m\u001b[39m.\u001b[39;49m_train_process(epoch, train_dataset, list_callback, cb_params, initial_epoch, valid_infos)\n\u001b[0;32m    615\u001b[0m \u001b[39melse\u001b[39;00m:\n\u001b[0;32m    616\u001b[0m     \u001b[39mself\u001b[39m\u001b[39m.\u001b[39m_train_dataset_sink_process(epoch, train_dataset, list_callback,\n\u001b[0;32m    617\u001b[0m                                      cb_params, sink_size, initial_epoch, valid_infos)\n",
      "File \u001b[1;32mc:\\Users\\15781\\anaconda3\\envs\\mindspore_py38\\lib\\site-packages\\mindspore\\train\\model.py:941\u001b[0m, in \u001b[0;36mModel._train_process\u001b[1;34m(self, epoch, train_dataset, list_callback, cb_params, initial_epoch, valid_infos)\u001b[0m\n\u001b[0;32m    939\u001b[0m \u001b[39m# Embedding cache server need not do epoch end callback, this process only run one step.\u001b[39;00m\n\u001b[0;32m    940\u001b[0m \u001b[39mif\u001b[39;00m \u001b[39mnot\u001b[39;00m is_embedding_cache_server:\n\u001b[1;32m--> 941\u001b[0m     list_callback\u001b[39m.\u001b[39;49mon_train_epoch_end(run_context)\n\u001b[0;32m    942\u001b[0m \u001b[39mif\u001b[39;00m \u001b[39m\"\u001b[39m\u001b[39mmetrics\u001b[39m\u001b[39m\"\u001b[39m \u001b[39min\u001b[39;00m cb_params \u001b[39mor\u001b[39;00m \u001b[39m\"\u001b[39m\u001b[39meval_results\u001b[39m\u001b[39m\"\u001b[39m \u001b[39min\u001b[39;00m cb_params:\n\u001b[0;32m    943\u001b[0m     cb_params\u001b[39m.\u001b[39mpop(\u001b[39m\"\u001b[39m\u001b[39mmetrics\u001b[39m\u001b[39m\"\u001b[39m, \u001b[39mNone\u001b[39;00m)\n",
      "File \u001b[1;32mc:\\Users\\15781\\anaconda3\\envs\\mindspore_py38\\lib\\site-packages\\mindspore\\train\\callback\\_callback.py:371\u001b[0m, in \u001b[0;36mCallbackManager.on_train_epoch_end\u001b[1;34m(self, run_context)\u001b[0m\n\u001b[0;32m    369\u001b[0m \u001b[39m\u001b[39m\u001b[39m\"\"\"Called after each train epoch finished.\"\"\"\u001b[39;00m\n\u001b[0;32m    370\u001b[0m \u001b[39mfor\u001b[39;00m cb \u001b[39min\u001b[39;00m \u001b[39mself\u001b[39m\u001b[39m.\u001b[39m_callbacks:\n\u001b[1;32m--> 371\u001b[0m     cb\u001b[39m.\u001b[39;49mon_train_epoch_end(run_context)\n",
      "File \u001b[1;32mc:\\Users\\15781\\anaconda3\\envs\\mindspore_py38\\lib\\site-packages\\mindspore\\train\\callback\\_callback.py:205\u001b[0m, in \u001b[0;36mCallback.on_train_epoch_end\u001b[1;34m(self, run_context)\u001b[0m\n\u001b[0;32m    198\u001b[0m \u001b[39mdef\u001b[39;00m \u001b[39mon_train_epoch_end\u001b[39m(\u001b[39mself\u001b[39m, run_context):\n\u001b[0;32m    199\u001b[0m \u001b[39m    \u001b[39m\u001b[39m\"\"\"\u001b[39;00m\n\u001b[0;32m    200\u001b[0m \u001b[39m    Called after each training epoch end.\u001b[39;00m\n\u001b[0;32m    201\u001b[0m \n\u001b[0;32m    202\u001b[0m \u001b[39m    Args:\u001b[39;00m\n\u001b[0;32m    203\u001b[0m \u001b[39m        run_context (RunContext): Include some information of the model.\u001b[39;00m\n\u001b[0;32m    204\u001b[0m \u001b[39m    \"\"\"\u001b[39;00m\n\u001b[1;32m--> 205\u001b[0m     \u001b[39mself\u001b[39;49m\u001b[39m.\u001b[39;49mepoch_end(run_context)\n",
      "Cell \u001b[1;32mIn[35], line 24\u001b[0m, in \u001b[0;36mEvalCallBackWithEarlyStop.epoch_end\u001b[1;34m(self, run_context)\u001b[0m\n\u001b[0;32m     22\u001b[0m train_acc \u001b[39m=\u001b[39m \u001b[39mself\u001b[39m\u001b[39m.\u001b[39mmodel\u001b[39m.\u001b[39meval(\u001b[39mself\u001b[39m\u001b[39m.\u001b[39mtrain_dataset, dataset_sink_mode\u001b[39m=\u001b[39m\u001b[39mself\u001b[39m\u001b[39m.\u001b[39mdataset_sink_mode)[\u001b[39m\"\u001b[39m\u001b[39mtrain_acc\u001b[39m\u001b[39m\"\u001b[39m]\n\u001b[0;32m     23\u001b[0m test_acc \u001b[39m=\u001b[39m \u001b[39mself\u001b[39m\u001b[39m.\u001b[39mmodel\u001b[39m.\u001b[39meval(\u001b[39mself\u001b[39m\u001b[39m.\u001b[39mtest_dataset, dataset_sink_mode\u001b[39m=\u001b[39m\u001b[39mself\u001b[39m\u001b[39m.\u001b[39mdataset_sink_mode)[\u001b[39m\"\u001b[39m\u001b[39mtest_acc\u001b[39m\u001b[39m\"\u001b[39m]\n\u001b[1;32m---> 24\u001b[0m train_loss \u001b[39m=\u001b[39m \u001b[39mself\u001b[39;49m\u001b[39m.\u001b[39;49mmodel\u001b[39m.\u001b[39;49meval(\u001b[39mself\u001b[39;49m\u001b[39m.\u001b[39;49mtrain_dataset, dataset_sink_mode\u001b[39m=\u001b[39;49m\u001b[39mself\u001b[39;49m\u001b[39m.\u001b[39;49mdataset_sink_mode)[\u001b[39m\"\u001b[39m\u001b[39mtrain_loss\u001b[39m\u001b[39m\"\u001b[39m]\n\u001b[0;32m     25\u001b[0m test_loss \u001b[39m=\u001b[39m \u001b[39mself\u001b[39m\u001b[39m.\u001b[39mmodel\u001b[39m.\u001b[39meval(\u001b[39mself\u001b[39m\u001b[39m.\u001b[39mtest_dataset, dataset_sink_mode\u001b[39m=\u001b[39m\u001b[39mself\u001b[39m\u001b[39m.\u001b[39mdataset_sink_mode)[\u001b[39m\"\u001b[39m\u001b[39mtest_loss\u001b[39m\u001b[39m\"\u001b[39m]\n\u001b[0;32m     26\u001b[0m \u001b[39mself\u001b[39m\u001b[39m.\u001b[39mper_eval[\u001b[39m\"\u001b[39m\u001b[39mepoch\u001b[39m\u001b[39m\"\u001b[39m]\u001b[39m.\u001b[39mappend(cur_epoch)\n",
      "File \u001b[1;32mc:\\Users\\15781\\anaconda3\\envs\\mindspore_py38\\lib\\site-packages\\mindspore\\train\\model.py:1457\u001b[0m, in \u001b[0;36mModel.eval\u001b[1;34m(self, valid_dataset, callbacks, dataset_sink_mode)\u001b[0m\n\u001b[0;32m   1455\u001b[0m         eval_result \u001b[39m=\u001b[39m \u001b[39mself\u001b[39m\u001b[39m.\u001b[39m_eval_dataset_sink_process(valid_dataset, list_callback, cb_params)\n\u001b[0;32m   1456\u001b[0m     \u001b[39melse\u001b[39;00m:\n\u001b[1;32m-> 1457\u001b[0m         eval_result \u001b[39m=\u001b[39m \u001b[39mself\u001b[39;49m\u001b[39m.\u001b[39;49m_eval_process(valid_dataset, list_callback, cb_params)\n\u001b[0;32m   1459\u001b[0m \u001b[39m# When it's distributed training and using MindRT,\u001b[39;00m\n\u001b[0;32m   1460\u001b[0m \u001b[39m# the node id should be reset to start from 0.\u001b[39;00m\n\u001b[0;32m   1461\u001b[0m \u001b[39m# This is to avoid the timeout when finding the actor route tables in 'train' and 'eval' case(or 'fit').\u001b[39;00m\n\u001b[0;32m   1462\u001b[0m \u001b[39mif\u001b[39;00m _enable_distributed_mindrt():\n",
      "File \u001b[1;32mc:\\Users\\15781\\anaconda3\\envs\\mindspore_py38\\lib\\site-packages\\mindspore\\train\\model.py:1359\u001b[0m, in \u001b[0;36mModel._eval_process\u001b[1;34m(self, valid_dataset, list_callback, cb_params, add_eval_loss)\u001b[0m\n\u001b[0;32m   1357\u001b[0m list_callback\u001b[39m.\u001b[39mon_eval_step_begin(run_context)\n\u001b[0;32m   1358\u001b[0m \u001b[39mself\u001b[39m\u001b[39m.\u001b[39m_check_network_mode(\u001b[39mself\u001b[39m\u001b[39m.\u001b[39m_eval_network, \u001b[39mFalse\u001b[39;00m)\n\u001b[1;32m-> 1359\u001b[0m outputs \u001b[39m=\u001b[39m \u001b[39mself\u001b[39;49m\u001b[39m.\u001b[39;49m_eval_network(\u001b[39m*\u001b[39;49mnext_element)\n\u001b[0;32m   1360\u001b[0m cb_params\u001b[39m.\u001b[39mnet_outputs \u001b[39m=\u001b[39m outputs\n\u001b[0;32m   1361\u001b[0m list_callback\u001b[39m.\u001b[39mon_eval_step_end(run_context)\n",
      "File \u001b[1;32mc:\\Users\\15781\\anaconda3\\envs\\mindspore_py38\\lib\\site-packages\\mindspore\\nn\\cell.py:636\u001b[0m, in \u001b[0;36mCell.__call__\u001b[1;34m(self, *args, **kwargs)\u001b[0m\n\u001b[0;32m    633\u001b[0m     \u001b[39mif\u001b[39;00m \u001b[39mself\u001b[39m\u001b[39m.\u001b[39m_hook_fn_registered():\n\u001b[0;32m    634\u001b[0m         logger\u001b[39m.\u001b[39mwarning(\u001b[39mf\u001b[39m\u001b[39m\"\u001b[39m\u001b[39mFor \u001b[39m\u001b[39m'\u001b[39m\u001b[39mCell\u001b[39m\u001b[39m'\u001b[39m\u001b[39m, it\u001b[39m\u001b[39m'\u001b[39m\u001b[39ms not support hook function in graph mode. If you want to use hook \u001b[39m\u001b[39m\"\u001b[39m\n\u001b[0;32m    635\u001b[0m                        \u001b[39mf\u001b[39m\u001b[39m\"\u001b[39m\u001b[39mfunction, please use context.set_context to set pynative mode.\u001b[39m\u001b[39m\"\u001b[39m)\n\u001b[1;32m--> 636\u001b[0m     out \u001b[39m=\u001b[39m \u001b[39mself\u001b[39;49m\u001b[39m.\u001b[39;49mcompile_and_run(\u001b[39m*\u001b[39;49margs, \u001b[39m*\u001b[39;49m\u001b[39m*\u001b[39;49mkwargs)\n\u001b[0;32m    637\u001b[0m     \u001b[39mreturn\u001b[39;00m out\n\u001b[0;32m    639\u001b[0m \u001b[39m# Run in PyNative mode.\u001b[39;00m\n",
      "File \u001b[1;32mc:\\Users\\15781\\anaconda3\\envs\\mindspore_py38\\lib\\site-packages\\mindspore\\nn\\cell.py:960\u001b[0m, in \u001b[0;36mCell.compile_and_run\u001b[1;34m(self, *args, **kwargs)\u001b[0m\n\u001b[0;32m    957\u001b[0m \u001b[39mself\u001b[39m\u001b[39m.\u001b[39mcompile(\u001b[39m*\u001b[39margs, \u001b[39m*\u001b[39m\u001b[39m*\u001b[39mkwargs)\n\u001b[0;32m    959\u001b[0m new_args \u001b[39m=\u001b[39m _get_args_for_run(\u001b[39mself\u001b[39m, args, kwargs)\n\u001b[1;32m--> 960\u001b[0m \u001b[39mreturn\u001b[39;00m _cell_graph_executor(\u001b[39mself\u001b[39;49m, \u001b[39m*\u001b[39;49mnew_args, phase\u001b[39m=\u001b[39;49m\u001b[39mself\u001b[39;49m\u001b[39m.\u001b[39;49mphase)\n",
      "File \u001b[1;32mc:\\Users\\15781\\anaconda3\\envs\\mindspore_py38\\lib\\site-packages\\mindspore\\common\\api.py:1435\u001b[0m, in \u001b[0;36m_CellGraphExecutor.__call__\u001b[1;34m(self, obj, phase, *args)\u001b[0m\n\u001b[0;32m   1433\u001b[0m \u001b[39mif\u001b[39;00m context\u001b[39m.\u001b[39mget_context(\u001b[39m\"\u001b[39m\u001b[39mprecompile_only\u001b[39m\u001b[39m\"\u001b[39m) \u001b[39mor\u001b[39;00m _is_role_sched():\n\u001b[0;32m   1434\u001b[0m     \u001b[39mreturn\u001b[39;00m \u001b[39mNone\u001b[39;00m\n\u001b[1;32m-> 1435\u001b[0m \u001b[39mreturn\u001b[39;00m \u001b[39mself\u001b[39;49m\u001b[39m.\u001b[39;49mrun(obj, \u001b[39m*\u001b[39;49margs, phase\u001b[39m=\u001b[39;49mphase)\n",
      "File \u001b[1;32mc:\\Users\\15781\\anaconda3\\envs\\mindspore_py38\\lib\\site-packages\\mindspore\\common\\api.py:1474\u001b[0m, in \u001b[0;36m_CellGraphExecutor.run\u001b[1;34m(self, obj, phase, *args)\u001b[0m\n\u001b[0;32m   1472\u001b[0m phase_real \u001b[39m=\u001b[39m phase \u001b[39m+\u001b[39m \u001b[39m'\u001b[39m\u001b[39m.\u001b[39m\u001b[39m'\u001b[39m \u001b[39m+\u001b[39m \u001b[39mstr\u001b[39m(obj\u001b[39m.\u001b[39mcreate_time) \u001b[39m+\u001b[39m \u001b[39m'\u001b[39m\u001b[39m.\u001b[39m\u001b[39m'\u001b[39m \u001b[39m+\u001b[39m \u001b[39mstr\u001b[39m(\u001b[39mid\u001b[39m(obj)) \u001b[39m+\u001b[39m \u001b[39m'\u001b[39m\u001b[39m.\u001b[39m\u001b[39m'\u001b[39m \u001b[39m+\u001b[39m obj\u001b[39m.\u001b[39marguments_key\n\u001b[0;32m   1473\u001b[0m \u001b[39mif\u001b[39;00m \u001b[39mself\u001b[39m\u001b[39m.\u001b[39mhas_compiled(phase_real):\n\u001b[1;32m-> 1474\u001b[0m     \u001b[39mreturn\u001b[39;00m \u001b[39mself\u001b[39;49m\u001b[39m.\u001b[39;49m_exec_pip(obj, \u001b[39m*\u001b[39;49margs, phase\u001b[39m=\u001b[39;49mphase_real)\n\u001b[0;32m   1475\u001b[0m \u001b[39mraise\u001b[39;00m \u001b[39mKeyError\u001b[39;00m(\u001b[39m'\u001b[39m\u001b[39m{}\u001b[39;00m\u001b[39m graph is not exist.\u001b[39m\u001b[39m'\u001b[39m\u001b[39m.\u001b[39mformat(phase_real))\n",
      "File \u001b[1;32mc:\\Users\\15781\\anaconda3\\envs\\mindspore_py38\\lib\\site-packages\\mindspore\\common\\api.py:102\u001b[0m, in \u001b[0;36m_wrap_func.<locals>.wrapper\u001b[1;34m(*arg, **kwargs)\u001b[0m\n\u001b[0;32m    100\u001b[0m \u001b[39m@wraps\u001b[39m(fn)\n\u001b[0;32m    101\u001b[0m \u001b[39mdef\u001b[39;00m \u001b[39mwrapper\u001b[39m(\u001b[39m*\u001b[39marg, \u001b[39m*\u001b[39m\u001b[39m*\u001b[39mkwargs):\n\u001b[1;32m--> 102\u001b[0m     results \u001b[39m=\u001b[39m fn(\u001b[39m*\u001b[39;49marg, \u001b[39m*\u001b[39;49m\u001b[39m*\u001b[39;49mkwargs)\n\u001b[0;32m    103\u001b[0m     \u001b[39mreturn\u001b[39;00m _convert_python_data(results)\n",
      "File \u001b[1;32mc:\\Users\\15781\\anaconda3\\envs\\mindspore_py38\\lib\\site-packages\\mindspore\\common\\api.py:1454\u001b[0m, in \u001b[0;36m_CellGraphExecutor._exec_pip\u001b[1;34m(self, obj, phase, *args)\u001b[0m\n\u001b[0;32m   1452\u001b[0m fn \u001b[39m=\u001b[39m obj\u001b[39m.\u001b[39mconstruct\n\u001b[0;32m   1453\u001b[0m obj\u001b[39m.\u001b[39m__parse_method__ \u001b[39m=\u001b[39m fn\u001b[39m.\u001b[39m\u001b[39m__name__\u001b[39m\n\u001b[1;32m-> 1454\u001b[0m \u001b[39mreturn\u001b[39;00m \u001b[39mself\u001b[39;49m\u001b[39m.\u001b[39;49m_graph_executor(args, phase)\n",
      "\u001b[1;31mKeyboardInterrupt\u001b[0m: "
     ]
    }
   ],
   "source": [
    "from mindspore.train.callback import Callback\n",
    "class EvalCallBackWithEarlyStop(Callback):\n",
    "    def __init__(self, model, train_dataset, test_dataset, dataset_sink_mode = False, epochs_to_eval = 1, acc_delta_limit = 0.01, patience = 0):\n",
    "        self.model = model\n",
    "        self.train_dataset = train_dataset\n",
    "        self.test_dataset = test_dataset\n",
    "        # epochs_to_eval是一个int数字，代表着：每隔多少个epoch进行一次验证\n",
    "        self.epochs_to_eval = epochs_to_eval\n",
    "        self.per_eval = {\"epoch\": [], \"test_acc\": [], \"train_acc\": [], \"test_loss\": [], \"train_loss\": []}\n",
    "        self.dataset_sink_mode = dataset_sink_mode\n",
    "        self.accDelta = acc_delta_limit\n",
    "        self.patience = patience\n",
    "        self.failEpoch = 0\n",
    "\n",
    "    def epoch_end(self, run_context):\n",
    "        # 获取到现在的epoch数\n",
    "        cb_param = run_context.original_args()\n",
    "        cur_epoch = cb_param.cur_epoch_num\n",
    "        # 如果达到进行验证的epoch数，则进行以下验证操作\n",
    "        if cur_epoch % self.epochs_to_eval == 0:\n",
    "            # 此处model设定的metrics是准确率Accuracy\n",
    "            train_acc = self.model.eval(self.train_dataset, dataset_sink_mode=self.dataset_sink_mode)[\"train_acc\"]\n",
    "            test_acc = self.model.eval(self.test_dataset, dataset_sink_mode=self.dataset_sink_mode)[\"test_acc\"]\n",
    "            train_loss = self.model.eval(self.train_dataset, dataset_sink_mode=self.dataset_sink_mode)[\"train_loss\"]\n",
    "            test_loss = self.model.eval(self.test_dataset, dataset_sink_mode=self.dataset_sink_mode)[\"test_loss\"]\n",
    "            self.per_eval[\"epoch\"].append(cur_epoch)\n",
    "            self.per_eval[\"test_acc\"].append(test_acc)\n",
    "            self.per_eval[\"train_acc\"].append(train_acc)\n",
    "            self.per_eval[\"train_loss\"].append(test_acc)\n",
    "            self.per_eval[\"test_loss\"].append(train_acc)\n",
    "            print(\"Epoch{}: train_acc: {}, test_acc: {}, train_loss: {}, test_loss{}\".format(cur_epoch, train_acc, test_acc, train_loss, test_loss))\n",
    "            delta = test_acc\n",
    "            if len(self.per_eval[\"test_acc\"]) != 1:\n",
    "                delta -= self.per_eval[\"test_acc\"][-1]\n",
    "            print(delta, self.failEpoch, self. patience)\n",
    "            if delta < self.accDelta:\n",
    "                if self.failEpoch >= self.patience:\n",
    "                    print(\"Stop.\")\n",
    "                    run_context.request_stop()\n",
    "                else:\n",
    "                    self.failEpoch += 1\n",
    "                    print(\"本次更新未达标，相关参数: \", self.failEpoch)\n",
    "            else:\n",
    "                self.failEpoch = 0      # 达标，清空\n",
    "                    \n",
    "                    \n",
    "\n",
    "# early stop\n",
    "cfg.epoch_size = 100\n",
    "def train_earlyStop(network, loss_fn):\n",
    "    ds_train, ds_test = create_dataset()\n",
    "    net_opt = nn.Adam(network.trainable_params(), cfg.lr)\n",
    "    model = Model(network, loss_fn=loss_fn, optimizer=net_opt, metrics={'test_acc': Accuracy(), 'train_acc': Accuracy(), 'test_loss': Loss(),  'train_loss': Loss()})\n",
    "    loss_cb = EvalCallBackWithEarlyStop(model=model, train_dataset=ds_train, test_dataset=ds_test, acc_delta_limit = 0.01, patience = 2)\n",
    "    print(\"============== Starting Training ==============\")\n",
    "    model.train(cfg.epoch_size, ds_train, callbacks=[loss_cb], dataset_sink_mode=True)\n",
    "    print(loss_cb.per_eval)\n",
    "    metricDic = loss_cb.per_eval\n",
    "    return model, metricDic\n",
    "\n",
    "\n",
    "network_earlyStop = ForwardFashion_baseline(cfg.num_classes)\n",
    "loss_fn = nn.CrossEntropyLoss()\n",
    "model_earlyStop, metricDic_earlyStop = train_earlyStop(network_earlyStop, loss_fn)\n",
    "saveMetric(\"./metric/baseline_metric_EarlyStop.txt\", metricDic_earlyStop)\n",
    "saveModel(\"./model/baseline_model_EarlyStop.ckpt\", network_earlyStop)"
   ]
  },
  {
   "cell_type": "code",
   "execution_count": null,
   "metadata": {},
   "outputs": [],
   "source": [
    "# 绘图"
   ]
  },
  {
   "attachments": {},
   "cell_type": "markdown",
   "metadata": {},
   "source": [
    "## 可视化结果"
   ]
  },
  {
   "cell_type": "code",
   "execution_count": null,
   "metadata": {},
   "outputs": [],
   "source": [
    "# -------------------定义可视化函数--------------------------------\n",
    "# 输入预测结果序列，真实标签序列，以及图片序列\n",
    "# 目标是根据预测值对错，让其标签显示为红色或者蓝色。对：标签为红色；错：标签为蓝色\n",
    "class_names = ['T-shirt/top', 'Trouser', 'Pullover', 'Dress', 'Coat',\n",
    "               'Sandal', 'Shirt', 'Sneaker', 'Bag', 'Ankle boot']\n",
    "\n",
    "def plot_image(predictions_array, true_label, img):\n",
    "    plt.grid(False)\n",
    "    plt.xticks([])\n",
    "    plt.yticks([])\n",
    "    # 显示对应图片\n",
    "    plt.imshow(img, cmap=plt.cm.binary)\n",
    "    # 显示预测结果的颜色，如果对上了是蓝色，否则为红色\n",
    "    predicted_label = np.argmax(predictions_array)\n",
    "    if predicted_label == true_label:\n",
    "        color = 'blue'\n",
    "    else:\n",
    "        color = 'red'\n",
    "    # 显示对应标签的格式，样式\n",
    "    plt.xlabel('{},{:2.0f}% ({})'.format(class_names[predicted_label],\n",
    "                                         100 * np.max(predictions_array),\n",
    "                                         class_names[true_label]), color=color)\n",
    "# 将预测的结果以柱状图形状显示蓝对红错\n",
    "def plot_value_array(predictions_array, true_label):\n",
    "    plt.grid(False)\n",
    "    plt.xticks([])\n",
    "    plt.yticks([])\n",
    "    this_plot = plt.bar(range(10), predictions_array, color='#777777')\n",
    "    plt.ylim([0, 1])\n",
    "    predicted_label = np.argmax(predictions_array)\n",
    "    this_plot[predicted_label].set_color('red')\n",
    "    this_plot[true_label].set_color('blue')\n",
    "\n",
    "import numpy as np\n",
    "def softmax_np(x):\n",
    "    x = x - np.max(x)\n",
    "    exp_x = np.exp(x)\n",
    "    softmax_x = exp_x/np.sum(exp_x)\n",
    "    return softmax_x\n"
   ]
  },
  {
   "cell_type": "code",
   "execution_count": null,
   "metadata": {},
   "outputs": [],
   "source": [
    "# 预测\n",
    "ds_test, _ = create_dataset()\n",
    "test_ = ds_test.create_dict_iterator(output_numpy=True).__next__()\n",
    "predictions = model_regL2.predict(Tensor(test_['x']))\n",
    "predictions = predictions.asnumpy()\n",
    "for i in range(15):\n",
    "    p_np = predictions[i, :]\n",
    "    p_list = p_np.tolist()\n",
    "    print('第' + str(i) + '个sample预测结果：', p_list.index(max(p_list)), '   真实结果：', test_['y'][i])\n",
    "\n",
    "# 预测15个图像与标签，并展现出来\n",
    "num_rows = 5\n",
    "num_cols = 3\n",
    "num_images = num_rows * num_cols\n",
    "plt.figure(figsize=(2 * 2 * num_cols, 2 * num_rows))\n",
    "class_names = ['T-shirt/top', 'Trouser', 'Pullover', 'Dress', 'Coat',\n",
    "               'Sandal', 'Shirt', 'Sneaker', 'Bag', 'Ankle boot']\n",
    "for i in range(num_images):\n",
    "    plt.subplot(num_rows, 2 * num_cols, 2 * i + 1)\n",
    "    pred_np_ = predictions[i, :]\n",
    "    pred_np_ = softmax_np(pred_np_)\n",
    "    plot_image(pred_np_, test_['y'][i], test_['x'][i, 0, ...])\n",
    "    plt.subplot(num_rows, 2 * num_cols, 2 * i + 2)\n",
    "    plot_value_array(pred_np_, test_['y'][i])\n",
    "plt.show() \n"
   ]
  },
  {
   "attachments": {},
   "cell_type": "markdown",
   "metadata": {},
   "source": [
    "## 进一步测试：L1和L2选多大的decay才合适？"
   ]
  },
  {
   "cell_type": "code",
   "execution_count": null,
   "metadata": {},
   "outputs": [],
   "source": [
    "cfg.epoch_size = 3  # 调小size测试"
   ]
  },
  {
   "attachments": {},
   "cell_type": "markdown",
   "metadata": {},
   "source": [
    "### L1"
   ]
  },
  {
   "cell_type": "code",
   "execution_count": null,
   "metadata": {},
   "outputs": [],
   "source": [
    "# L1\n",
    "test_accLst_L1 = []\n",
    "for i in range(7,13):\n",
    "    l1_weight = 10 ** (-i)\n",
    "    network_L1 = ForwardFashion_baseline(cfg.num_classes)\n",
    "    loss_fn_L1 = L1CrossEntropyLoss(network_L1.trainable_params(), l1_weight=l1_weight)\n",
    "    model_L1, metricDic_L1 = train(network_L1, loss_fn_L1)\n",
    "    curr_acc = metricDic_L1[\"test_acc\"][-1]\n",
    "    test_accLst_L1.append(curr_acc)\n",
    "    print(i, curr_acc)\n",
    "saveMetric(\"./img/testForL1\", test_accLst_L1)"
   ]
  },
  {
   "attachments": {},
   "cell_type": "markdown",
   "metadata": {},
   "source": [
    "### L2"
   ]
  },
  {
   "cell_type": "code",
   "execution_count": null,
   "metadata": {},
   "outputs": [],
   "source": [
    "# L2\n",
    "test_accLst_L2 = []\n",
    "for i in range(10,20):\n",
    "    l2_weight = 10 ** (-i)\n",
    "    network_L2 = ForwardFashion_baseline(cfg.num_classes)\n",
    "    loss_fn_L2 = L2CrossEntropyLoss(network_L2.trainable_params(), l2_weight=l2_weight)\n",
    "    model_L2, metricDic_L2 = train(network_L2, loss_fn_L2)\n",
    "    curr_acc = metricDic_L2[\"test_acc\"][-1]\n",
    "    test_accLst_L2.append(curr_acc)\n",
    "    print(i, curr_acc)\n",
    "saveMetric(\"./img/testForL2\", test_accLst_L2)\n",
    "    "
   ]
  }
 ],
 "metadata": {
  "kernelspec": {
   "display_name": "mindspore_py38",
   "language": "python",
   "name": "python3"
  },
  "language_info": {
   "codemirror_mode": {
    "name": "ipython",
    "version": 3
   },
   "file_extension": ".py",
   "mimetype": "text/x-python",
   "name": "python",
   "nbconvert_exporter": "python",
   "pygments_lexer": "ipython3",
   "version": "3.8.0"
  },
  "orig_nbformat": 4
 },
 "nbformat": 4,
 "nbformat_minor": 2
}
